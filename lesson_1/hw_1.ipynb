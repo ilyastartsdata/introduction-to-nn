{
 "cells": [
  {
   "cell_type": "markdown",
   "id": "6d5c7f01",
   "metadata": {},
   "source": [
    "## Домашнее задание"
   ]
  },
  {
   "cell_type": "markdown",
   "id": "1a18bf96",
   "metadata": {},
   "source": [
    "1. Попробуйте видоизменить параметры разобранной на уроке двухслойной нейронной сети таким образом, чтобы улучшить ее точность (число нейронов, число эпох , можно изменять число слоев).\n",
    "2. Проведите анализ — что приводит к ухудшению точности нейронной сети? Что приводит к увеличению ее точности?"
   ]
  },
  {
   "cell_type": "markdown",
   "id": "806d7860",
   "metadata": {},
   "source": [
    "---"
   ]
  },
  {
   "cell_type": "code",
   "execution_count": null,
   "id": "4aa2742b",
   "metadata": {},
   "outputs": [],
   "source": [
    "# Загрузка библиотек\n",
    "\n",
    "import numpy as np\n",
    "import pandas as pd\n",
    "import seaborn as sns\n",
    "import matplotlib.pyplot as plt\n",
    "\n",
    "import warnings\n",
    "warnings.simplefilter(action = 'ignore', category = FutureWarning)\n",
    "\n",
    "from sklearn.model_selection import train_test_split"
   ]
  },
  {
   "cell_type": "markdown",
   "id": "dab00aee",
   "metadata": {},
   "source": [
    "---"
   ]
  },
  {
   "cell_type": "code",
   "execution_count": null,
   "id": "db7651f0",
   "metadata": {},
   "outputs": [],
   "source": [
    "### Шаг 1. Определение функций, которые понадобяться для обучения\n",
    "# преобразование массива в бинарный вид результатов\n",
    "\n",
    "def to_one_hot(Y):\n",
    "    n_col = np.amax(Y) + 1\n",
    "    binarized = np.zeros((len(Y), n_col))\n",
    "    for i in range(len(Y)):\n",
    "        binarized[i, Y[i]] = 1.\n",
    "    return binarized\n",
    "\n",
    "# преобразование массива в необходимый вид\n",
    "\n",
    "def from_one_hot(Y):\n",
    "    arr = np.zeros((len(Y), 1))\n",
    "\n",
    "    for i in range(len(Y)):\n",
    "        l = Y[i]\n",
    "        for j in range(len(l)):\n",
    "            if(l[j] == 1):\n",
    "                arr[i] = j+1\n",
    "    return arr\n",
    "\n",
    "# сигмоида и ее производная\n",
    "\n",
    "def sigmoid(x):\n",
    "    return 1/(1+np.exp(-x))\n",
    "\n",
    "def sigmoid_deriv(x):\n",
    "    return (x)*(1 - (x))\n",
    "\n",
    "# нормализация массива\n",
    "\n",
    "def normalize(X, axis = -1, order = 2):\n",
    "    l2 = np.atleast_1d(np.linalg.norm(X, order, axis))\n",
    "    l2[l2 == 0] = 1\n",
    "    return X / np.expand_dims(l2, axis)"
   ]
  },
  {
   "cell_type": "code",
   "execution_count": null,
   "id": "fe07d84e",
   "metadata": {},
   "outputs": [],
   "source": [
    "### Шаг 2. Подготовка тренировочных данных\n",
    "\n",
    "from google.colab import drive\n",
    "drive.mount('/content/drive')\n",
    "\n",
    "# получения данных из csv файла. укажите здесь путь к файлу Iris.csv\n",
    "\n",
    "with open('/content/drive/My Drive/Colab Notebooks/Iris.csv', 'r') as f:\n",
    "    iris_data = pd.read_csv(f)\n",
    "\n",
    "# замена текстовых значений на цифровые\n",
    "\n",
    "iris_data['Species'].replace(['Iris-setosa', 'Iris-virginica', 'Iris-versicolor'], [0, 1, 2], inplace=True)\n",
    "\n",
    "# формирование входных данных\n",
    "\n",
    "columns = ['SepalLengthCm', 'SepalWidthCm', 'PetalLengthCm', 'PetalWidthCm']\n",
    "x = pd.DataFrame(iris_data, columns = columns)\n",
    "x = normalize(x.values)\n",
    "\n",
    "# формирование выходных данных(результатов)\n",
    "\n",
    "columns = ['Species']\n",
    "y = pd.DataFrame(iris_data, columns=columns)\n",
    "y = y.values\n",
    "y = y.flatten()\n",
    "y = to_one_hot(y)\n",
    "\n",
    "# Разделение данных на тренировочные и тестовые\n",
    "\n",
    "X_train, X_test, y_train, y_test = train_test_split(x, y, test_size = 0.33)\n"
   ]
  },
  {
   "cell_type": "code",
   "execution_count": null,
   "id": "6bfb887f",
   "metadata": {},
   "outputs": [],
   "source": [
    "### Шаг 3. Обученние нейронной сети\n",
    "\n",
    "accuracies = { }\n",
    "\n",
    "# определим число нейронов скрытого слоя\n",
    "\n",
    "neurons = [5, 10, 15, 25]\n",
    "\n",
    "for neuron_numb in neurons:\n",
    "    \n",
    "    # присваевание случайных весов\n",
    "    \n",
    "    w0 = 2*np.random.random((4, neuron_numb)) - 1 # для входного слоя   - 4 входа, 3 выхода\n",
    "    w1 = 2*np.random.random((neuron_numb, 3)) - 1 # для внутреннего слоя - 5 входов, 3 выхода\n",
    "\n",
    "    # скорость обучения (learning rate)\n",
    "    \n",
    "    speed = [0.05, 0.1, 0.15]\n",
    "    \n",
    "    for n in speed:\n",
    "        \n",
    "        # массив для ошибок\n",
    "        \n",
    "        errors = []\n",
    "\n",
    "        epoch = [3000, 4000, 5000]\n",
    "        \n",
    "        # процесс обучения\n",
    "        \n",
    "        for epo in epoch:\n",
    "            \n",
    "            for i in range(epo):\n",
    "\n",
    "                # прямое распространение(feed forward)\n",
    "                \n",
    "                layer0 = X_train\n",
    "                layer1 = sigmoid(np.dot(layer0, w0))\n",
    "                layer2 = sigmoid(np.dot(layer1, w1))\n",
    "\n",
    "                # обратное распространение(back propagation) с использованием градиентного спуска\n",
    "                \n",
    "                layer2_error = y_train - layer2 # производная функции потерь = производная квадратичных потерь \n",
    "                layer2_delta = layer2_error * sigmoid_deriv(layer2)\n",
    "    \n",
    "                layer1_error = layer2_delta.dot(w1.T)\n",
    "                layer1_delta = layer1_error * sigmoid_deriv(layer1)\n",
    "            \n",
    "                # коррекция\n",
    "                \n",
    "                w1 += layer1.T.dot(layer2_delta) * n\n",
    "                w0 += layer0.T.dot(layer1_delta) * n\n",
    "                \n",
    "                # метрика модели\n",
    "                \n",
    "                error = np.mean(np.abs(layer2_error))\n",
    "                errors.append(error)\n",
    "                accuracy = (1 - error) * 100\n",
    "            \n",
    "            ### Шаг 4. Демонстрация полученных результатов\n",
    "        \n",
    "            layer0_t = X_test\n",
    "            layer1_t = sigmoid(np.dot(layer0_t, w0))\n",
    "            layer2_t = sigmoid(np.dot(layer1_t, w1))\n",
    "            layer2_error_t = y_test - layer2_t\n",
    "\n",
    "            error_t = np.mean(np.abs(layer2_error_t))\n",
    "            accuracy_t = (1 - error_t) * 100\n",
    "            accuracies[np.round(accuracy_t,2)] = (neuron_numb, n, epo, np.round(accuracy,2))"
   ]
  },
  {
   "cell_type": "code",
   "execution_count": null,
   "id": "ad624ff2",
   "metadata": {},
   "outputs": [],
   "source": [
    "from pprint import pprint\n",
    "pprint(accuracies)"
   ]
  },
  {
   "cell_type": "code",
   "execution_count": null,
   "id": "8c8e5709",
   "metadata": {},
   "outputs": [],
   "source": [
    "best = max(accuracies)\n",
    "print('Лучшее качество на тесте: {}\\nКоличество нейронов: {}\\nСкорость обучения: \\\n",
    "{}\\nКоличество эпох: {}\\nКачество на обучающей выборке: {}'\\\n",
    ".format(best, accuracies[best][0], accuracies[best][1], accuracies[best][2], accuracies[best][3]))"
   ]
  },
  {
   "cell_type": "markdown",
   "id": "dd376e32",
   "metadata": {},
   "source": [
    "---"
   ]
  },
  {
   "cell_type": "markdown",
   "id": "f5d78361",
   "metadata": {},
   "source": [
    "**Результат:** с высоких значений epoch и speed происходит быстрое переобучение с высоким результатом на обучающей выборке и низким на тестовой. При плавном наращивании повышается возможность следить за переобучением и контролировать финальный результат."
   ]
  }
 ],
 "metadata": {
  "kernelspec": {
   "display_name": "Python 3 (ipykernel)",
   "language": "python",
   "name": "python3"
  },
  "language_info": {
   "codemirror_mode": {
    "name": "ipython",
    "version": 3
   },
   "file_extension": ".py",
   "mimetype": "text/x-python",
   "name": "python",
   "nbconvert_exporter": "python",
   "pygments_lexer": "ipython3",
   "version": "3.9.7"
  }
 },
 "nbformat": 4,
 "nbformat_minor": 5
}
