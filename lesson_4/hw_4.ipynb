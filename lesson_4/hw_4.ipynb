{
 "cells": [
  {
   "cell_type": "markdown",
   "id": "aa351a4f",
   "metadata": {},
   "source": [
    "## Домашнее задание к уроку 4. Сверточные нейронные сети"
   ]
  },
  {
   "cell_type": "markdown",
   "id": "b65a1428",
   "metadata": {},
   "source": [
    "Вариант 1. (простой)\n",
    "\n",
    "    - обучить сверточную нейронную сеть в стиле AlexNet (с падением размера ядра свертки и последовательностью блоков свертка-пулинг (conv-pool)-(conv-pool)-...) на датасете fashion-mnist\n",
    "    - оценить рост точности при увеличении ширины сети (больше ядер)\n",
    "    - оценить рост точности при увеличении глубины сети (больше слоев)\n",
    "    - сравнить с точностью полносвязной сети для этой выборки"
   ]
  },
  {
   "cell_type": "markdown",
   "id": "ffb5a148",
   "metadata": {},
   "source": [
    "---"
   ]
  },
  {
   "cell_type": "code",
   "execution_count": 1,
   "id": "62324c46",
   "metadata": {},
   "outputs": [],
   "source": [
    "# Загрузка библиотек\n",
    "\n",
    "import matplotlib.pyplot as plt\n",
    "import numpy as np\n",
    "import tensorflow as tf\n",
    "\n",
    "from tensorflow.keras.models import Sequential\n",
    "from tensorflow.keras import models, layers, losses, datasets\n",
    "\n",
    "from tensorflow.keras.losses import categorical_crossentropy"
   ]
  },
  {
   "cell_type": "code",
   "execution_count": 2,
   "id": "9e138f5f",
   "metadata": {},
   "outputs": [
    {
     "name": "stderr",
     "output_type": "stream",
     "text": [
      "2022-04-18 20:19:10.942557: I tensorflow/core/platform/cpu_feature_guard.cc:142] This TensorFlow binary is optimized with oneAPI Deep Neural Network Library (oneDNN) to use the following CPU instructions in performance-critical operations:  SSE4.1 SSE4.2 AVX AVX2 FMA\n",
      "To enable them in other operations, rebuild TensorFlow with the appropriate compiler flags.\n"
     ]
    }
   ],
   "source": [
    "# Загрузка данных\n",
    "\n",
    "(x_train, y_train), (x_test, y_test) = datasets.fashion_mnist.load_data()\n",
    "\n",
    "x_train = tf.pad(x_train, [[0, 0], [2,2], [2,2]])/255\n",
    "x_test = tf.pad(x_test, [[0, 0], [2,2], [2,2]])/255\n",
    "\n",
    "x_train = tf.expand_dims(x_train, axis = 3, name = None)\n",
    "x_test = tf.expand_dims(x_test, axis = 3, name = None)\n",
    "\n",
    "x_train = tf.repeat(x_train, 3, axis = 3)\n",
    "x_test = tf.repeat(x_test, 3, axis = 3)\n",
    "\n",
    "x_val = x_train[-2000:,:,:,:]\n",
    "y_val = y_train[-2000:]\n",
    "x_train = x_train[:-2000,:,:,:]\n",
    "y_train = y_train[:-2000]"
   ]
  },
  {
   "cell_type": "markdown",
   "id": "ea680a1d",
   "metadata": {},
   "source": [
    "---"
   ]
  },
  {
   "cell_type": "code",
   "execution_count": 3,
   "id": "727c83c9",
   "metadata": {},
   "outputs": [
    {
     "name": "stdout",
     "output_type": "stream",
     "text": [
      "Model: \"sequential\"\n",
      "_________________________________________________________________\n",
      "Layer (type)                 Output Shape              Param #   \n",
      "=================================================================\n",
      "resizing (Resizing)          (None, 224, 224, 3)       0         \n",
      "_________________________________________________________________\n",
      "conv2d (Conv2D)              (None, 56, 56, 96)        34944     \n",
      "_________________________________________________________________\n",
      "lambda (Lambda)              (None, 56, 56, 96)        0         \n",
      "_________________________________________________________________\n",
      "activation (Activation)      (None, 56, 56, 96)        0         \n",
      "_________________________________________________________________\n",
      "max_pooling2d (MaxPooling2D) (None, 27, 27, 96)        0         \n",
      "_________________________________________________________________\n",
      "conv2d_1 (Conv2D)            (None, 7, 7, 256)         614656    \n",
      "_________________________________________________________________\n",
      "lambda_1 (Lambda)            (None, 7, 7, 256)         0         \n",
      "_________________________________________________________________\n",
      "activation_1 (Activation)    (None, 7, 7, 256)         0         \n",
      "_________________________________________________________________\n",
      "max_pooling2d_1 (MaxPooling2 (None, 3, 3, 256)         0         \n",
      "_________________________________________________________________\n",
      "conv2d_2 (Conv2D)            (None, 1, 1, 384)         885120    \n",
      "_________________________________________________________________\n",
      "activation_2 (Activation)    (None, 1, 1, 384)         0         \n",
      "_________________________________________________________________\n",
      "conv2d_3 (Conv2D)            (None, 1, 1, 384)         1327488   \n",
      "_________________________________________________________________\n",
      "activation_3 (Activation)    (None, 1, 1, 384)         0         \n",
      "_________________________________________________________________\n",
      "conv2d_4 (Conv2D)            (None, 1, 1, 256)         884992    \n",
      "_________________________________________________________________\n",
      "activation_4 (Activation)    (None, 1, 1, 256)         0         \n",
      "_________________________________________________________________\n",
      "flatten (Flatten)            (None, 256)               0         \n",
      "_________________________________________________________________\n",
      "dense (Dense)                (None, 4096)              1052672   \n",
      "_________________________________________________________________\n",
      "dropout (Dropout)            (None, 4096)              0         \n",
      "_________________________________________________________________\n",
      "dense_1 (Dense)              (None, 4096)              16781312  \n",
      "_________________________________________________________________\n",
      "dropout_1 (Dropout)          (None, 4096)              0         \n",
      "_________________________________________________________________\n",
      "dense_2 (Dense)              (None, 10)                40970     \n",
      "=================================================================\n",
      "Total params: 21,622,154\n",
      "Trainable params: 21,622,154\n",
      "Non-trainable params: 0\n",
      "_________________________________________________________________\n"
     ]
    }
   ],
   "source": [
    "# Пустая модель\n",
    "\n",
    "model = Sequential()\n",
    "\n",
    "model.add(layers.experimental.preprocessing.Resizing(224, 224, interpolation = \"bilinear\", input_shape = x_train.shape[1:]))\n",
    "\n",
    "model.add(layers.Conv2D(96, 11, strides = 4, padding = 'same'))\n",
    "model.add(layers.Lambda(tf.nn.local_response_normalization))\n",
    "model.add(layers.Activation('relu'))\n",
    "model.add(layers.MaxPooling2D(3, strides = 2))\n",
    "\n",
    "model.add(layers.Conv2D(256, 5, strides = 4, padding = 'same'))\n",
    "model.add(layers.Lambda(tf.nn.local_response_normalization))\n",
    "model.add(layers.Activation('relu'))\n",
    "model.add(layers.MaxPooling2D(3, strides = 2))\n",
    "\n",
    "model.add(layers.Conv2D(384, 3, strides = 4, padding = 'same'))\n",
    "model.add(layers.Activation('relu'))\n",
    "\n",
    "model.add(layers.Conv2D(384, 3, strides = 4, padding = 'same'))\n",
    "model.add(layers.Activation('relu'))\n",
    "\n",
    "model.add(layers.Conv2D(256, 3, strides = 4, padding = 'same'))\n",
    "model.add(layers.Activation('relu'))\n",
    "\n",
    "model.add(layers.Flatten())\n",
    "\n",
    "model.add(layers.Dense(4096, activation = 'relu'))\n",
    "model.add(layers.Dropout(0.5))\n",
    "\n",
    "model.add(layers.Dense(4096, activation = 'relu'))\n",
    "model.add(layers.Dropout(0.5))\n",
    "\n",
    "model.add(layers.Dense(10, activation = 'softmax'))\n",
    "model.summary()"
   ]
  },
  {
   "cell_type": "code",
   "execution_count": 4,
   "id": "1b878ebb",
   "metadata": {},
   "outputs": [
    {
     "name": "stderr",
     "output_type": "stream",
     "text": [
      "2022-04-18 20:19:22.470842: I tensorflow/compiler/mlir/mlir_graph_optimization_pass.cc:116] None of the MLIR optimization passes are enabled (registered 2)\n"
     ]
    },
    {
     "name": "stdout",
     "output_type": "stream",
     "text": [
      "Epoch 1/20\n",
      "907/907 [==============================] - 584s 643ms/step - loss: 0.9946 - accuracy: 0.5922 - val_loss: 0.3580 - val_accuracy: 0.8710\n",
      "Epoch 2/20\n",
      "907/907 [==============================] - 610s 673ms/step - loss: 0.3422 - accuracy: 0.8776 - val_loss: 0.2877 - val_accuracy: 0.8855\n",
      "Epoch 3/20\n",
      "907/907 [==============================] - 610s 673ms/step - loss: 0.3006 - accuracy: 0.8913 - val_loss: 0.3338 - val_accuracy: 0.8820\n",
      "Epoch 4/20\n",
      "907/907 [==============================] - 612s 674ms/step - loss: 0.2697 - accuracy: 0.9021 - val_loss: 0.2847 - val_accuracy: 0.8910\n",
      "Epoch 5/20\n",
      "907/907 [==============================] - 610s 673ms/step - loss: 0.2405 - accuracy: 0.9118 - val_loss: 0.2870 - val_accuracy: 0.8950\n",
      "Epoch 6/20\n",
      "907/907 [==============================] - 615s 678ms/step - loss: 0.2313 - accuracy: 0.9181 - val_loss: 0.2658 - val_accuracy: 0.9065\n",
      "Epoch 7/20\n",
      "907/907 [==============================] - 620s 684ms/step - loss: 0.2074 - accuracy: 0.9243 - val_loss: 0.2692 - val_accuracy: 0.9125\n",
      "Epoch 8/20\n",
      "907/907 [==============================] - 624s 688ms/step - loss: 0.1939 - accuracy: 0.9299 - val_loss: 0.2428 - val_accuracy: 0.9195\n",
      "Epoch 9/20\n",
      "907/907 [==============================] - 627s 691ms/step - loss: 0.1734 - accuracy: 0.9367 - val_loss: 0.2607 - val_accuracy: 0.9125\n",
      "Epoch 10/20\n",
      "907/907 [==============================] - 628s 692ms/step - loss: 0.1611 - accuracy: 0.9415 - val_loss: 0.2554 - val_accuracy: 0.9135\n",
      "Epoch 11/20\n",
      "907/907 [==============================] - 629s 693ms/step - loss: 0.1572 - accuracy: 0.9439 - val_loss: 0.2738 - val_accuracy: 0.9105\n",
      "Epoch 12/20\n",
      "907/907 [==============================] - 628s 693ms/step - loss: 0.1476 - accuracy: 0.9473 - val_loss: 0.2704 - val_accuracy: 0.9155\n",
      "Epoch 13/20\n",
      "907/907 [==============================] - 630s 694ms/step - loss: 0.1324 - accuracy: 0.9532 - val_loss: 0.2606 - val_accuracy: 0.9200\n",
      "Epoch 14/20\n",
      "907/907 [==============================] - 629s 694ms/step - loss: 0.1268 - accuracy: 0.9548 - val_loss: 0.2964 - val_accuracy: 0.9135\n",
      "Epoch 15/20\n",
      "907/907 [==============================] - 630s 695ms/step - loss: 0.1133 - accuracy: 0.9598 - val_loss: 0.2724 - val_accuracy: 0.9200\n",
      "Epoch 16/20\n",
      "907/907 [==============================] - 629s 693ms/step - loss: 0.1036 - accuracy: 0.9626 - val_loss: 0.2841 - val_accuracy: 0.9215\n",
      "Epoch 17/20\n",
      "907/907 [==============================] - 630s 694ms/step - loss: 0.0925 - accuracy: 0.9672 - val_loss: 0.3041 - val_accuracy: 0.9155\n",
      "Epoch 18/20\n",
      "907/907 [==============================] - 627s 691ms/step - loss: 0.0929 - accuracy: 0.9678 - val_loss: 0.3042 - val_accuracy: 0.9185\n",
      "Epoch 19/20\n",
      "907/907 [==============================] - 627s 691ms/step - loss: 0.0847 - accuracy: 0.9703 - val_loss: 0.3767 - val_accuracy: 0.9135\n",
      "Epoch 20/20\n",
      "907/907 [==============================] - 627s 691ms/step - loss: 0.0751 - accuracy: 0.9743 - val_loss: 0.3699 - val_accuracy: 0.9205\n"
     ]
    }
   ],
   "source": [
    "# Компиляция\n",
    "\n",
    "model.compile(optimizer = 'adam',\n",
    "              loss = losses.sparse_categorical_crossentropy, \n",
    "              metrics = ['accuracy'])\n",
    "\n",
    "history = model.fit(x = x_train, y = y_train, \n",
    "                    batch_size = 64, \n",
    "                    epochs = 20, \n",
    "                    validation_data = (x_val, y_val),\n",
    "                    verbose = 1)"
   ]
  },
  {
   "cell_type": "code",
   "execution_count": 5,
   "id": "2909fa3a",
   "metadata": {},
   "outputs": [
    {
     "data": {
      "text/plain": [
       "<matplotlib.legend.Legend at 0x143220ee0>"
      ]
     },
     "execution_count": 5,
     "metadata": {},
     "output_type": "execute_result"
    },
    {
     "data": {
      "image/png": "[encoded data removed]",
      "text/plain": [
       "<Figure size 1440x1440 with 2 Axes>"
      ]
     },
     "metadata": {
      "needs_background": "light"
     },
     "output_type": "display_data"
    }
   ],
   "source": [
    "# Визуализация\n",
    "\n",
    "fig, axs = plt.subplots(2, 1, figsize = (20,20))\n",
    "\n",
    "axs[0].plot(history.history['loss'])\n",
    "axs[0].plot(history.history['val_loss'])\n",
    "axs[0].title.set_text('Training Loss vs Validation Loss')\n",
    "axs[0].set_xlabel('Epochs')\n",
    "axs[0].set_ylabel('Loss')\n",
    "axs[0].legend(['Train', 'Val'])\n",
    "\n",
    "axs[1].plot(history.history['accuracy'])\n",
    "axs[1].plot(history.history['val_accuracy'])\n",
    "axs[1].title.set_text('Training Accuracy vs Validation Accuracy')\n",
    "axs[1].set_xlabel('Epochs')\n",
    "axs[1].set_ylabel('Accuracy')\n",
    "axs[1].legend(['Train', 'Val'])"
   ]
  },
  {
   "cell_type": "code",
   "execution_count": 6,
   "id": "3f3dd5b3",
   "metadata": {},
   "outputs": [
    {
     "name": "stdout",
     "output_type": "stream",
     "text": [
      "313/313 [==============================] - 39s 124ms/step - loss: 0.3864 - accuracy: 0.9145\n",
      "Test loss 0.3864, accuracy 91.45%\n"
     ]
    }
   ],
   "source": [
    "# Оценка\n",
    "\n",
    "test_score = model.evaluate(x_test, y_test)\n",
    "print(\"Test loss {:.4f}, accuracy {:.2f}%\".format(test_score[0], test_score[1] * 100))"
   ]
  },
  {
   "cell_type": "markdown",
   "id": "b8280293",
   "metadata": {},
   "source": [
    "---"
   ]
  },
  {
   "cell_type": "markdown",
   "id": "97ca5a9f",
   "metadata": {},
   "source": [
    "### Оценка влияния увеличения ширины сети"
   ]
  },
  {
   "cell_type": "code",
   "execution_count": 7,
   "id": "f05d11ed",
   "metadata": {},
   "outputs": [],
   "source": [
    "result_width = []"
   ]
  },
  {
   "cell_type": "code",
   "execution_count": 8,
   "id": "06f94473",
   "metadata": {},
   "outputs": [],
   "source": [
    "def models_width(width_1 = 256, width_2 = 384, epochs = 10):\n",
    "    \n",
    "    model = Sequential()\n",
    "\n",
    "    model.add(layers.experimental.preprocessing.Resizing(224, 224, interpolation = \"bilinear\", input_shape=x_train.shape[1:]))\n",
    "\n",
    "    model.add(layers.Conv2D(96, 11, strides = 4, padding = 'same'))\n",
    "    model.add(layers.Lambda(tf.nn.local_response_normalization))\n",
    "    model.add(layers.Activation('relu'))\n",
    "    model.add(layers.MaxPooling2D(3, strides = 2))\n",
    "\n",
    "    model.add(layers.Conv2D(width_1, 5, strides = 4, padding = 'same'))\n",
    "    model.add(layers.Lambda(tf.nn.local_response_normalization))\n",
    "    model.add(layers.Activation('relu'))\n",
    "    model.add(layers.MaxPooling2D(3, strides = 2))\n",
    "\n",
    "    model.add(layers.Conv2D(width_2, 3, strides = 4, padding = 'same'))\n",
    "    model.add(layers.Activation('relu'))\n",
    "\n",
    "    model.add(layers.Conv2D(width_2, 3, strides = 4, padding = 'same'))\n",
    "    model.add(layers.Activation('relu'))\n",
    "\n",
    "    model.add(layers.Conv2D(width_1, 3, strides = 4, padding = 'same'))\n",
    "    model.add(layers.Activation('relu'))\n",
    "\n",
    "    model.add(layers.Flatten())\n",
    "\n",
    "    model.add(layers.Dense(4096, activation = 'relu'))\n",
    "    model.add(layers.Dropout(0.5))\n",
    "\n",
    "    model.add(layers.Dense(4096, activation = 'relu'))\n",
    "    model.add(layers.Dropout(0.5))\n",
    "\n",
    "    model.add(layers.Dense(10, activation = 'softmax'))\n",
    "    \n",
    "    model.compile(optimizer = 'adam',\n",
    "                  loss = losses.sparse_categorical_crossentropy, \n",
    "                  metrics = ['accuracy'])\n",
    "\n",
    "    model.fit(x = x_train, y = y_train, \n",
    "                    batch_size = 64, \n",
    "                    epochs = epochs, \n",
    "                    validation_data = (x_val, y_val),\n",
    "                    verbose = 1)\n",
    "    \n",
    "    [loss, accuracy] = model.evaluate(x_test, y_test)\n",
    "    print(\"Test loss {:.4f}, accuracy {:.2f}%\".format(loss, accuracy * 100))\n",
    "    \n",
    "    result_width.append([width_1, width_2, loss, accuracy])\n",
    "    \n",
    "    return result_width"
   ]
  },
  {
   "cell_type": "code",
   "execution_count": 9,
   "id": "827066df",
   "metadata": {},
   "outputs": [
    {
     "name": "stdout",
     "output_type": "stream",
     "text": [
      "Epoch 1/10\n",
      "907/907 [==============================] - 612s 674ms/step - loss: 1.1335 - accuracy: 0.5291 - val_loss: 0.3307 - val_accuracy: 0.8740\n",
      "Epoch 2/10\n",
      "907/907 [==============================] - 620s 684ms/step - loss: 0.3402 - accuracy: 0.8777 - val_loss: 0.2951 - val_accuracy: 0.8940\n",
      "Epoch 3/10\n",
      "907/907 [==============================] - 601s 663ms/step - loss: 0.2929 - accuracy: 0.8934 - val_loss: 0.2595 - val_accuracy: 0.9040\n",
      "Epoch 4/10\n",
      "907/907 [==============================] - 597s 658ms/step - loss: 0.2628 - accuracy: 0.9042 - val_loss: 0.2707 - val_accuracy: 0.8985\n",
      "Epoch 5/10\n",
      "907/907 [==============================] - 595s 656ms/step - loss: 0.2497 - accuracy: 0.9109 - val_loss: 0.3281 - val_accuracy: 0.8840\n",
      "Epoch 6/10\n",
      "907/907 [==============================] - 599s 660ms/step - loss: 0.2318 - accuracy: 0.9187 - val_loss: 0.2616 - val_accuracy: 0.9115\n",
      "Epoch 7/10\n",
      "907/907 [==============================] - 596s 657ms/step - loss: 0.2099 - accuracy: 0.9254 - val_loss: 0.2401 - val_accuracy: 0.9195\n",
      "Epoch 8/10\n",
      "907/907 [==============================] - 594s 655ms/step - loss: 0.1922 - accuracy: 0.9319 - val_loss: 0.2381 - val_accuracy: 0.9165\n",
      "Epoch 9/10\n",
      "907/907 [==============================] - 595s 656ms/step - loss: 0.1759 - accuracy: 0.9378 - val_loss: 0.2498 - val_accuracy: 0.9165\n",
      "Epoch 10/10\n",
      "907/907 [==============================] - 605s 667ms/step - loss: 0.1647 - accuracy: 0.9404 - val_loss: 0.2574 - val_accuracy: 0.9165\n",
      "313/313 [==============================] - 37s 118ms/step - loss: 0.3021 - accuracy: 0.9131\n",
      "Test loss 0.3021, accuracy 91.31%\n"
     ]
    },
    {
     "data": {
      "text/plain": [
       "[[256, 384, 0.30209630727767944, 0.913100004196167]]"
      ]
     },
     "execution_count": 9,
     "metadata": {},
     "output_type": "execute_result"
    }
   ],
   "source": [
    "models_width(256, 384, epochs = 10)"
   ]
  },
  {
   "cell_type": "code",
   "execution_count": 10,
   "id": "199342c8",
   "metadata": {},
   "outputs": [
    {
     "name": "stdout",
     "output_type": "stream",
     "text": [
      "Epoch 1/10\n",
      "907/907 [==============================] - 810s 892ms/step - loss: 1.1075 - accuracy: 0.5282 - val_loss: 0.3740 - val_accuracy: 0.8585\n",
      "Epoch 2/10\n",
      "907/907 [==============================] - 801s 883ms/step - loss: 0.3581 - accuracy: 0.8709 - val_loss: 0.3165 - val_accuracy: 0.8890\n",
      "Epoch 3/10\n",
      "907/907 [==============================] - 801s 883ms/step - loss: 0.3021 - accuracy: 0.8888 - val_loss: 0.2707 - val_accuracy: 0.9055\n",
      "Epoch 4/10\n",
      "907/907 [==============================] - 804s 886ms/step - loss: 0.2707 - accuracy: 0.9026 - val_loss: 0.2532 - val_accuracy: 0.9020\n",
      "Epoch 5/10\n",
      "907/907 [==============================] - 808s 891ms/step - loss: 0.2419 - accuracy: 0.9124 - val_loss: 0.2823 - val_accuracy: 0.9055\n",
      "Epoch 6/10\n",
      "907/907 [==============================] - 815s 898ms/step - loss: 0.2216 - accuracy: 0.9174 - val_loss: 0.2450 - val_accuracy: 0.9145\n",
      "Epoch 7/10\n",
      "907/907 [==============================] - 809s 891ms/step - loss: 0.2094 - accuracy: 0.9237 - val_loss: 0.2224 - val_accuracy: 0.9225\n",
      "Epoch 8/10\n",
      "907/907 [==============================] - 803s 885ms/step - loss: 0.1868 - accuracy: 0.9323 - val_loss: 0.2237 - val_accuracy: 0.9220\n",
      "Epoch 9/10\n",
      "907/907 [==============================] - 806s 889ms/step - loss: 0.1787 - accuracy: 0.9346 - val_loss: 0.2466 - val_accuracy: 0.9105\n",
      "Epoch 10/10\n",
      "907/907 [==============================] - 807s 889ms/step - loss: 0.1571 - accuracy: 0.9428 - val_loss: 0.2341 - val_accuracy: 0.9185\n",
      "313/313 [==============================] - 39s 124ms/step - loss: 0.2578 - accuracy: 0.9130\n",
      "Test loss 0.2578, accuracy 91.30%\n"
     ]
    },
    {
     "data": {
      "text/plain": [
       "[[256, 384, 0.30209630727767944, 0.913100004196167],\n",
       " [384, 576, 0.25781452655792236, 0.9129999876022339]]"
      ]
     },
     "execution_count": 10,
     "metadata": {},
     "output_type": "execute_result"
    }
   ],
   "source": [
    "models_width(384, 576, epochs = 10)"
   ]
  },
  {
   "cell_type": "code",
   "execution_count": 11,
   "id": "288066cc",
   "metadata": {},
   "outputs": [
    {
     "name": "stdout",
     "output_type": "stream",
     "text": [
      "Epoch 1/10\n",
      "907/907 [==============================] - 1305s 1s/step - loss: 1.1967 - accuracy: 0.4993 - val_loss: 0.3616 - val_accuracy: 0.8685\n",
      "Epoch 2/10\n",
      "907/907 [==============================] - 1318s 1s/step - loss: 0.3646 - accuracy: 0.8695 - val_loss: 0.3025 - val_accuracy: 0.8885\n",
      "Epoch 3/10\n",
      "907/907 [==============================] - 1313s 1s/step - loss: 0.3092 - accuracy: 0.8876 - val_loss: 0.2905 - val_accuracy: 0.8980\n",
      "Epoch 4/10\n",
      "907/907 [==============================] - 1297s 1s/step - loss: 0.2737 - accuracy: 0.9001 - val_loss: 0.3038 - val_accuracy: 0.8930\n",
      "Epoch 5/10\n",
      "907/907 [==============================] - 1297s 1s/step - loss: 0.2464 - accuracy: 0.9113 - val_loss: 0.3057 - val_accuracy: 0.8915\n",
      "Epoch 6/10\n",
      "907/907 [==============================] - 1305s 1s/step - loss: 0.2343 - accuracy: 0.9156 - val_loss: 0.2647 - val_accuracy: 0.9070\n",
      "Epoch 7/10\n",
      "907/907 [==============================] - 1295s 1s/step - loss: 0.2181 - accuracy: 0.9216 - val_loss: 0.2825 - val_accuracy: 0.9020\n",
      "Epoch 8/10\n",
      "907/907 [==============================] - 1294s 1s/step - loss: 0.2002 - accuracy: 0.9292 - val_loss: 0.2681 - val_accuracy: 0.9110\n",
      "Epoch 9/10\n",
      "907/907 [==============================] - 1291s 1s/step - loss: 0.1951 - accuracy: 0.9291 - val_loss: 0.2363 - val_accuracy: 0.9150\n",
      "Epoch 10/10\n",
      "907/907 [==============================] - 1294s 1s/step - loss: 0.1812 - accuracy: 0.9356 - val_loss: 0.2606 - val_accuracy: 0.9130\n",
      "313/313 [==============================] - 39s 124ms/step - loss: 0.2845 - accuracy: 0.9063\n",
      "Test loss 0.2845, accuracy 90.63%\n"
     ]
    },
    {
     "data": {
      "text/plain": [
       "[[256, 384, 0.30209630727767944, 0.913100004196167],\n",
       " [384, 576, 0.25781452655792236, 0.9129999876022339],\n",
       " [576, 864, 0.28449517488479614, 0.9063000082969666]]"
      ]
     },
     "execution_count": 11,
     "metadata": {},
     "output_type": "execute_result"
    }
   ],
   "source": [
    "models_width(576, 864, epochs = 10)"
   ]
  },
  {
   "cell_type": "code",
   "execution_count": 12,
   "id": "2a2b92a5",
   "metadata": {},
   "outputs": [],
   "source": [
    "# Планировал сделать и этот шаг, но один e занимает более 40 минут & ноутбук на пределе\n",
    "\n",
    "# models_width(864, 1296, epochs = 10)"
   ]
  },
  {
   "cell_type": "code",
   "execution_count": 13,
   "id": "56f03e0f",
   "metadata": {},
   "outputs": [
    {
     "data": {
      "text/html": [
       "<div>\n",
       "<style scoped>\n",
       "    .dataframe tbody tr th:only-of-type {\n",
       "        vertical-align: middle;\n",
       "    }\n",
       "\n",
       "    .dataframe tbody tr th {\n",
       "        vertical-align: top;\n",
       "    }\n",
       "\n",
       "    .dataframe thead th {\n",
       "        text-align: right;\n",
       "    }\n",
       "</style>\n",
       "<table border=\"1\" class=\"dataframe\">\n",
       "  <thead>\n",
       "    <tr style=\"text-align: right;\">\n",
       "      <th></th>\n",
       "      <th>width_1</th>\n",
       "      <th>width_2</th>\n",
       "      <th>loss</th>\n",
       "      <th>accuracy</th>\n",
       "    </tr>\n",
       "  </thead>\n",
       "  <tbody>\n",
       "    <tr>\n",
       "      <th>0</th>\n",
       "      <td>256</td>\n",
       "      <td>384</td>\n",
       "      <td>0.302096</td>\n",
       "      <td>0.9131</td>\n",
       "    </tr>\n",
       "    <tr>\n",
       "      <th>1</th>\n",
       "      <td>384</td>\n",
       "      <td>576</td>\n",
       "      <td>0.257815</td>\n",
       "      <td>0.9130</td>\n",
       "    </tr>\n",
       "    <tr>\n",
       "      <th>2</th>\n",
       "      <td>576</td>\n",
       "      <td>864</td>\n",
       "      <td>0.284495</td>\n",
       "      <td>0.9063</td>\n",
       "    </tr>\n",
       "  </tbody>\n",
       "</table>\n",
       "</div>"
      ],
      "text/plain": [
       "   width_1  width_2      loss  accuracy\n",
       "0      256      384  0.302096    0.9131\n",
       "1      384      576  0.257815    0.9130\n",
       "2      576      864  0.284495    0.9063"
      ]
     },
     "execution_count": 13,
     "metadata": {},
     "output_type": "execute_result"
    }
   ],
   "source": [
    "import pandas as pd\n",
    "\n",
    "# Оценка\n",
    "\n",
    "pd.DataFrame(result_width, columns = ['width_1','width_2',\n",
    "                              'loss', 'accuracy'\n",
    "                              ]).\\\n",
    "                              sort_values('accuracy', ascending = False).head(3)"
   ]
  },
  {
   "cell_type": "markdown",
   "id": "c5feabb3",
   "metadata": {},
   "source": [
    "---"
   ]
  },
  {
   "cell_type": "markdown",
   "id": "238fd057",
   "metadata": {},
   "source": [
    "### Оценка влияния увеличения глубины сети"
   ]
  },
  {
   "cell_type": "code",
   "execution_count": 14,
   "id": "f9dd7859",
   "metadata": {},
   "outputs": [],
   "source": [
    "result_depth = []"
   ]
  },
  {
   "cell_type": "code",
   "execution_count": 15,
   "id": "518bd90a",
   "metadata": {},
   "outputs": [],
   "source": [
    "def models_depth(depth = 2, width_1 = 256, width_2 = 384, epochs = 10):\n",
    "    \n",
    "    model = Sequential()\n",
    "\n",
    "    model.add(layers.experimental.preprocessing.Resizing(224, 224, interpolation = \"bilinear\", input_shape = x_train.shape[1:]))\n",
    "\n",
    "    model.add(layers.Conv2D(96, 11, strides = 4, padding = 'same'))\n",
    "    model.add(layers.Lambda(tf.nn.local_response_normalization))\n",
    "    model.add(layers.Activation('relu'))\n",
    "    model.add(layers.MaxPooling2D(3, strides = 2))\n",
    "\n",
    "    model.add(layers.Conv2D(width_1, 5, strides = 4, padding = 'same'))\n",
    "    model.add(layers.Lambda(tf.nn.local_response_normalization))\n",
    "    model.add(layers.Activation('relu'))\n",
    "    model.add(layers.MaxPooling2D(3, strides = 2))\n",
    "    \n",
    "    for _ in range(depth):\n",
    "        model.add(layers.Conv2D(width_2, 3, strides = 4, padding = 'same'))\n",
    "        model.add(layers.Activation('relu'))\n",
    "\n",
    "    model.add(layers.Conv2D(width_1, 3, strides = 2, padding = 'same'))\n",
    "    model.add(layers.Activation('relu'))\n",
    "\n",
    "    model.add(layers.Flatten())\n",
    "\n",
    "    model.add(layers.Dense(4096, activation = 'relu'))\n",
    "    model.add(layers.Dropout(0.5))\n",
    "\n",
    "    model.add(layers.Dense(4096, activation = 'relu'))\n",
    "    model.add(layers.Dropout(0.5))\n",
    "\n",
    "    model.add(layers.Dense(10, activation = 'softmax'))\n",
    "    \n",
    "    model.compile(optimizer = 'adam',\n",
    "                  loss = losses.sparse_categorical_crossentropy, \n",
    "                  metrics = ['accuracy'])\n",
    "\n",
    "    model.fit(x = x_train, y = y_train, \n",
    "                    batch_size = 64, \n",
    "                    epochs = epochs, \n",
    "                    validation_data = (x_val, y_val),\n",
    "                    verbose = 1)\n",
    "    \n",
    "    [loss, accuracy] = model.evaluate(x_test, y_test)\n",
    "    print(\"Test loss {:.4f}, accuracy {:.2f}%\".format(loss, accuracy * 100))\n",
    "    \n",
    "    result_depth.append([width_1, width_2, depth, loss, accuracy])\n",
    "    \n",
    "    return result_depth"
   ]
  },
  {
   "cell_type": "code",
   "execution_count": 16,
   "id": "3db0a887",
   "metadata": {},
   "outputs": [
    {
     "name": "stdout",
     "output_type": "stream",
     "text": [
      "Epoch 1/10\n",
      "907/907 [==============================] - 1305s 1s/step - loss: 2.3040 - accuracy: 0.0991 - val_loss: 2.3029 - val_accuracy: 0.1065\n",
      "Epoch 2/10\n",
      "907/907 [==============================] - 1322s 1s/step - loss: 2.3029 - accuracy: 0.0987 - val_loss: 2.3024 - val_accuracy: 0.1100\n",
      "Epoch 3/10\n",
      "907/907 [==============================] - 1328s 1s/step - loss: 2.3027 - accuracy: 0.1001 - val_loss: 2.3026 - val_accuracy: 0.1065\n",
      "Epoch 4/10\n",
      "907/907 [==============================] - 1340s 1s/step - loss: 2.3028 - accuracy: 0.0986 - val_loss: 2.3030 - val_accuracy: 0.0960\n",
      "Epoch 5/10\n",
      "907/907 [==============================] - 1338s 1s/step - loss: 2.3027 - accuracy: 0.1021 - val_loss: 2.3028 - val_accuracy: 0.1030\n",
      "Epoch 6/10\n",
      "907/907 [==============================] - 1337s 1s/step - loss: 2.3027 - accuracy: 0.1024 - val_loss: 2.3031 - val_accuracy: 0.0890\n",
      "Epoch 7/10\n",
      "907/907 [==============================] - 1354s 1s/step - loss: 2.3027 - accuracy: 0.0983 - val_loss: 2.3029 - val_accuracy: 0.1065\n",
      "Epoch 8/10\n",
      "907/907 [==============================] - 1357s 1s/step - loss: 2.3027 - accuracy: 0.0983 - val_loss: 2.3026 - val_accuracy: 0.1090\n",
      "Epoch 9/10\n",
      "907/907 [==============================] - 1331s 1s/step - loss: 2.3027 - accuracy: 0.0985 - val_loss: 2.3030 - val_accuracy: 0.0890\n",
      "Epoch 10/10\n",
      "907/907 [==============================] - 1299s 1s/step - loss: 2.3027 - accuracy: 0.0993 - val_loss: 2.3027 - val_accuracy: 0.1030\n",
      "313/313 [==============================] - 39s 124ms/step - loss: 2.3026 - accuracy: 0.1000\n",
      "Test loss 2.3026, accuracy 10.00%\n"
     ]
    },
    {
     "data": {
      "text/plain": [
       "[[576, 864, 2, 2.302610158920288, 0.10000000149011612]]"
      ]
     },
     "execution_count": 16,
     "metadata": {},
     "output_type": "execute_result"
    }
   ],
   "source": [
    "models_depth(depth = 2, width_1 = 576, width_2 = 864, epochs = 10)"
   ]
  },
  {
   "cell_type": "code",
   "execution_count": 17,
   "id": "d3a2b331",
   "metadata": {},
   "outputs": [
    {
     "name": "stdout",
     "output_type": "stream",
     "text": [
      "Epoch 1/10\n",
      "907/907 [==============================] - 1560s 2s/step - loss: 1.2172 - accuracy: 0.4968 - val_loss: 0.3659 - val_accuracy: 0.8640\n",
      "Epoch 2/10\n",
      "907/907 [==============================] - 1565s 2s/step - loss: 0.3724 - accuracy: 0.8679 - val_loss: 0.3104 - val_accuracy: 0.8895\n",
      "Epoch 3/10\n",
      "907/907 [==============================] - 1660s 2s/step - loss: 0.3164 - accuracy: 0.8863 - val_loss: 0.3364 - val_accuracy: 0.8850\n",
      "Epoch 4/10\n",
      "907/907 [==============================] - 1742s 2s/step - loss: 0.2825 - accuracy: 0.8972 - val_loss: 0.3257 - val_accuracy: 0.8955\n",
      "Epoch 5/10\n",
      "907/907 [==============================] - 1747s 2s/step - loss: 0.2516 - accuracy: 0.9086 - val_loss: 0.2825 - val_accuracy: 0.9005\n",
      "Epoch 6/10\n",
      "907/907 [==============================] - 1742s 2s/step - loss: 0.2344 - accuracy: 0.9149 - val_loss: 0.2851 - val_accuracy: 0.9095\n",
      "Epoch 7/10\n",
      "907/907 [==============================] - 1737s 2s/step - loss: 0.2149 - accuracy: 0.9213 - val_loss: 0.2720 - val_accuracy: 0.9140\n",
      "Epoch 8/10\n",
      "907/907 [==============================] - 1730s 2s/step - loss: 0.2224 - accuracy: 0.9246 - val_loss: 0.2813 - val_accuracy: 0.9080\n",
      "Epoch 9/10\n",
      "907/907 [==============================] - 1610s 2s/step - loss: 0.2157 - accuracy: 0.9229 - val_loss: 0.2611 - val_accuracy: 0.9135\n",
      "Epoch 10/10\n",
      "907/907 [==============================] - 1604s 2s/step - loss: 0.1896 - accuracy: 0.9318 - val_loss: 0.2746 - val_accuracy: 0.9035\n",
      "313/313 [==============================] - 43s 138ms/step - loss: 0.2854 - accuracy: 0.9032\n",
      "Test loss 0.2854, accuracy 90.32%\n"
     ]
    },
    {
     "data": {
      "text/plain": [
       "[[576, 864, 2, 2.302610158920288, 0.10000000149011612],\n",
       " [576, 864, 3, 0.2854299545288086, 0.9031999707221985]]"
      ]
     },
     "execution_count": 17,
     "metadata": {},
     "output_type": "execute_result"
    }
   ],
   "source": [
    "models_depth(depth = 3, width_1 = 576, width_2 = 864, epochs = 10)"
   ]
  },
  {
   "cell_type": "code",
   "execution_count": 18,
   "id": "20c173da",
   "metadata": {},
   "outputs": [],
   "source": [
    "# Ноутбук не справляется\n",
    "\n",
    "# models_depth(depth = 4, width_1 = 576, width_2 = 864, epochs = 10)"
   ]
  },
  {
   "cell_type": "code",
   "execution_count": 20,
   "id": "5a79845d",
   "metadata": {},
   "outputs": [
    {
     "name": "stdout",
     "output_type": "stream",
     "text": [
      "Epoch 1/10\n",
      "907/907 [==============================] - 829s 913ms/step - loss: 1.1283 - accuracy: 0.5366 - val_loss: 0.3684 - val_accuracy: 0.8660\n",
      "Epoch 2/10\n",
      "907/907 [==============================] - 784s 864ms/step - loss: 0.3529 - accuracy: 0.8738 - val_loss: 0.3051 - val_accuracy: 0.8880\n",
      "Epoch 3/10\n",
      "907/907 [==============================] - 777s 857ms/step - loss: 0.2894 - accuracy: 0.8965 - val_loss: 0.2783 - val_accuracy: 0.9015\n",
      "Epoch 4/10\n",
      "907/907 [==============================] - 785s 866ms/step - loss: 0.2700 - accuracy: 0.9024 - val_loss: 0.2566 - val_accuracy: 0.9045\n",
      "Epoch 5/10\n",
      "907/907 [==============================] - 808s 891ms/step - loss: 0.2436 - accuracy: 0.9126 - val_loss: 0.2641 - val_accuracy: 0.9030\n",
      "Epoch 6/10\n",
      "907/907 [==============================] - 821s 905ms/step - loss: 0.2302 - accuracy: 0.9170 - val_loss: 0.2563 - val_accuracy: 0.9105\n",
      "Epoch 7/10\n",
      "907/907 [==============================] - 831s 916ms/step - loss: 0.2114 - accuracy: 0.9249 - val_loss: 0.2459 - val_accuracy: 0.9140\n",
      "Epoch 8/10\n",
      "907/907 [==============================] - 835s 921ms/step - loss: 0.1979 - accuracy: 0.9288 - val_loss: 0.2751 - val_accuracy: 0.9105\n",
      "Epoch 9/10\n",
      "907/907 [==============================] - 841s 927ms/step - loss: 0.1856 - accuracy: 0.9338 - val_loss: 0.2382 - val_accuracy: 0.9165\n",
      "Epoch 10/10\n",
      "907/907 [==============================] - 847s 934ms/step - loss: 0.1620 - accuracy: 0.9412 - val_loss: 0.2621 - val_accuracy: 0.9210\n",
      "313/313 [==============================] - 42s 134ms/step - loss: 0.2969 - accuracy: 0.9063\n",
      "Test loss 0.2969, accuracy 90.63%\n"
     ]
    },
    {
     "data": {
      "text/plain": [
       "[[576, 864, 2, 2.302610158920288, 0.10000000149011612],\n",
       " [576, 864, 3, 0.2854299545288086, 0.9031999707221985],\n",
       " [384, 576, 2, 0.29686304926872253, 0.9063000082969666]]"
      ]
     },
     "execution_count": 20,
     "metadata": {},
     "output_type": "execute_result"
    }
   ],
   "source": [
    "models_depth(depth = 2, width_1 = 384, width_2 = 576, epochs = 10)"
   ]
  },
  {
   "cell_type": "code",
   "execution_count": 21,
   "id": "e292fe4e",
   "metadata": {},
   "outputs": [
    {
     "name": "stdout",
     "output_type": "stream",
     "text": [
      "Epoch 1/10\n",
      "907/907 [==============================] - 964s 1s/step - loss: 1.2909 - accuracy: 0.4588 - val_loss: 0.3919 - val_accuracy: 0.8580\n",
      "Epoch 2/10\n",
      "907/907 [==============================] - 945s 1s/step - loss: 0.3857 - accuracy: 0.8642 - val_loss: 0.3043 - val_accuracy: 0.8860\n",
      "Epoch 3/10\n",
      "907/907 [==============================] - 942s 1s/step - loss: 0.3106 - accuracy: 0.8877 - val_loss: 0.2949 - val_accuracy: 0.8940\n",
      "Epoch 4/10\n",
      "907/907 [==============================] - 938s 1s/step - loss: 0.2818 - accuracy: 0.9002 - val_loss: 0.2662 - val_accuracy: 0.9040\n",
      "Epoch 5/10\n",
      "907/907 [==============================] - 940s 1s/step - loss: 0.2532 - accuracy: 0.9081 - val_loss: 0.2872 - val_accuracy: 0.9085\n",
      "Epoch 6/10\n",
      "907/907 [==============================] - 938s 1s/step - loss: 0.2347 - accuracy: 0.9148 - val_loss: 0.2589 - val_accuracy: 0.9050\n",
      "Epoch 7/10\n",
      "907/907 [==============================] - 940s 1s/step - loss: 0.2291 - accuracy: 0.9197 - val_loss: 0.2483 - val_accuracy: 0.9095\n",
      "Epoch 8/10\n",
      "907/907 [==============================] - 940s 1s/step - loss: 0.1991 - accuracy: 0.9289 - val_loss: 0.2408 - val_accuracy: 0.9195\n",
      "Epoch 9/10\n",
      "907/907 [==============================] - 941s 1s/step - loss: 0.1874 - accuracy: 0.9329 - val_loss: 0.2440 - val_accuracy: 0.9175\n",
      "Epoch 10/10\n",
      "907/907 [==============================] - 943s 1s/step - loss: 0.1779 - accuracy: 0.9364 - val_loss: 0.2837 - val_accuracy: 0.9115\n",
      "313/313 [==============================] - 41s 131ms/step - loss: 0.3261 - accuracy: 0.9044\n",
      "Test loss 0.3261, accuracy 90.44%\n"
     ]
    },
    {
     "data": {
      "text/plain": [
       "[[576, 864, 2, 2.302610158920288, 0.10000000149011612],\n",
       " [576, 864, 3, 0.2854299545288086, 0.9031999707221985],\n",
       " [384, 576, 2, 0.29686304926872253, 0.9063000082969666],\n",
       " [384, 576, 3, 0.326115220785141, 0.9043999910354614]]"
      ]
     },
     "execution_count": 21,
     "metadata": {},
     "output_type": "execute_result"
    }
   ],
   "source": [
    "models_depth(depth = 3, width_1 = 384, width_2 = 576, epochs = 10)"
   ]
  },
  {
   "cell_type": "code",
   "execution_count": 22,
   "id": "7206c1dc",
   "metadata": {},
   "outputs": [],
   "source": [
    "# Ноутбук не справляется\n",
    "\n",
    "# models_depth(depth = 4, width_1 = 384, width_2 = 576, epochs = 10)"
   ]
  },
  {
   "cell_type": "code",
   "execution_count": 23,
   "id": "220cef87",
   "metadata": {},
   "outputs": [
    {
     "data": {
      "text/html": [
       "<div>\n",
       "<style scoped>\n",
       "    .dataframe tbody tr th:only-of-type {\n",
       "        vertical-align: middle;\n",
       "    }\n",
       "\n",
       "    .dataframe tbody tr th {\n",
       "        vertical-align: top;\n",
       "    }\n",
       "\n",
       "    .dataframe thead th {\n",
       "        text-align: right;\n",
       "    }\n",
       "</style>\n",
       "<table border=\"1\" class=\"dataframe\">\n",
       "  <thead>\n",
       "    <tr style=\"text-align: right;\">\n",
       "      <th></th>\n",
       "      <th>width_1</th>\n",
       "      <th>width_2</th>\n",
       "      <th>depth</th>\n",
       "      <th>loss</th>\n",
       "      <th>accuracy</th>\n",
       "    </tr>\n",
       "  </thead>\n",
       "  <tbody>\n",
       "    <tr>\n",
       "      <th>2</th>\n",
       "      <td>384</td>\n",
       "      <td>576</td>\n",
       "      <td>2</td>\n",
       "      <td>0.296863</td>\n",
       "      <td>0.9063</td>\n",
       "    </tr>\n",
       "    <tr>\n",
       "      <th>3</th>\n",
       "      <td>384</td>\n",
       "      <td>576</td>\n",
       "      <td>3</td>\n",
       "      <td>0.326115</td>\n",
       "      <td>0.9044</td>\n",
       "    </tr>\n",
       "    <tr>\n",
       "      <th>1</th>\n",
       "      <td>576</td>\n",
       "      <td>864</td>\n",
       "      <td>3</td>\n",
       "      <td>0.285430</td>\n",
       "      <td>0.9032</td>\n",
       "    </tr>\n",
       "    <tr>\n",
       "      <th>0</th>\n",
       "      <td>576</td>\n",
       "      <td>864</td>\n",
       "      <td>2</td>\n",
       "      <td>2.302610</td>\n",
       "      <td>0.1000</td>\n",
       "    </tr>\n",
       "  </tbody>\n",
       "</table>\n",
       "</div>"
      ],
      "text/plain": [
       "   width_1  width_2  depth      loss  accuracy\n",
       "2      384      576      2  0.296863    0.9063\n",
       "3      384      576      3  0.326115    0.9044\n",
       "1      576      864      3  0.285430    0.9032\n",
       "0      576      864      2  2.302610    0.1000"
      ]
     },
     "execution_count": 23,
     "metadata": {},
     "output_type": "execute_result"
    }
   ],
   "source": [
    "# Оценка\n",
    "\n",
    "pd.DataFrame(result_depth, columns = ['width_1', 'width_2','depth',\n",
    "                              'loss', 'accuracy'\n",
    "                              ]).\\\n",
    "                              sort_values('accuracy', ascending = False).head(4)"
   ]
  },
  {
   "cell_type": "markdown",
   "id": "c3f6e351",
   "metadata": {},
   "source": [
    "---"
   ]
  },
  {
   "cell_type": "markdown",
   "id": "69c3ae34",
   "metadata": {},
   "source": [
    "**Вывод:**"
   ]
  },
  {
   "cell_type": "markdown",
   "id": "a393b5eb",
   "metadata": {},
   "source": [
    "- Увеличение ширины (может) приводить к росту точности.\n",
    "- Увеличение глубины (количества слоев) может по-разному влиять на точность."
   ]
  }
 ],
 "metadata": {
  "kernelspec": {
   "display_name": "Python 3 (ipykernel)",
   "language": "python",
   "name": "python3"
  },
  "language_info": {
   "codemirror_mode": {
    "name": "ipython",
    "version": 3
   },
   "file_extension": ".py",
   "mimetype": "text/x-python",
   "name": "python",
   "nbconvert_exporter": "python",
   "pygments_lexer": "ipython3",
   "version": "3.9.7"
  }
 },
 "nbformat": 4,
 "nbformat_minor": 5
}
